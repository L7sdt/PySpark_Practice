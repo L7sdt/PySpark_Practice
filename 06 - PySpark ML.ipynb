{
 "cells": [
  {
   "cell_type": "code",
   "execution_count": 1,
   "id": "18d2749d",
   "metadata": {},
   "outputs": [],
   "source": [
    "from pyspark.sql import SparkSession\n",
    "spark = SparkSession \\\n",
    "        .builder \\\n",
    "        .appName(\"SparkML\") \\\n",
    "        .getOrCreate()"
   ]
  },
  {
   "cell_type": "code",
   "execution_count": 2,
   "id": "771725ff",
   "metadata": {},
   "outputs": [
    {
     "name": "stdout",
     "output_type": "stream",
     "text": [
      "+---------+---+---+------+\n",
      "|     name|age| xp|salary|\n",
      "+---------+---+---+------+\n",
      "|    Krish| 31| 10| 30000|\n",
      "|Sudhanshu| 30|  8| 25000|\n",
      "|    Sunny| 29|  4| 20000|\n",
      "|     Paul| 24|  3| 20000|\n",
      "|   Harsha| 21|  1| 15000|\n",
      "|  Shubham| 23|  2| 18000|\n",
      "+---------+---+---+------+\n",
      "\n"
     ]
    }
   ],
   "source": [
    "df = spark.read \\\n",
    "    .option(\"header\", \"True\") \\\n",
    "    .option(\"inferSchema\", \"True\") \\\n",
    "    .csv('test4.csv')\n",
    "df.show()"
   ]
  },
  {
   "cell_type": "code",
   "execution_count": 3,
   "id": "430a8fcb",
   "metadata": {},
   "outputs": [],
   "source": [
    "from pyspark.ml.feature import VectorAssembler\n",
    "featureAssembler = VectorAssembler(inputCols=[\"age\", \"xp\"], outputCol=\"IndFeatures\")"
   ]
  },
  {
   "cell_type": "code",
   "execution_count": 4,
   "id": "c143d439",
   "metadata": {},
   "outputs": [
    {
     "name": "stdout",
     "output_type": "stream",
     "text": [
      "+---------+---+---+------+-----------+\n",
      "|     name|age| xp|salary|IndFeatures|\n",
      "+---------+---+---+------+-----------+\n",
      "|    Krish| 31| 10| 30000|[31.0,10.0]|\n",
      "|Sudhanshu| 30|  8| 25000| [30.0,8.0]|\n",
      "|    Sunny| 29|  4| 20000| [29.0,4.0]|\n",
      "|     Paul| 24|  3| 20000| [24.0,3.0]|\n",
      "|   Harsha| 21|  1| 15000| [21.0,1.0]|\n",
      "|  Shubham| 23|  2| 18000| [23.0,2.0]|\n",
      "+---------+---+---+------+-----------+\n",
      "\n"
     ]
    }
   ],
   "source": [
    "output = featureAssembler.transform(df)\n",
    "output.show()"
   ]
  },
  {
   "cell_type": "code",
   "execution_count": 5,
   "id": "c7c00565",
   "metadata": {},
   "outputs": [
    {
     "name": "stdout",
     "output_type": "stream",
     "text": [
      "+-----------+------+\n",
      "|IndFeatures|Salary|\n",
      "+-----------+------+\n",
      "|[31.0,10.0]| 30000|\n",
      "| [30.0,8.0]| 25000|\n",
      "| [29.0,4.0]| 20000|\n",
      "| [24.0,3.0]| 20000|\n",
      "| [21.0,1.0]| 15000|\n",
      "| [23.0,2.0]| 18000|\n",
      "+-----------+------+\n",
      "\n"
     ]
    }
   ],
   "source": [
    "final_data = output.select(\"IndFeatures\", \"Salary\")\n",
    "final_data.show()"
   ]
  },
  {
   "cell_type": "code",
   "execution_count": 6,
   "id": "9375a451",
   "metadata": {},
   "outputs": [],
   "source": [
    "from pyspark.ml.regression import LinearRegression\n",
    "\n",
    "train_data, test_data = final_data.randomSplit([0.75, 0.25])\n",
    "regressor = LinearRegression(featuresCol=\"IndFeatures\", labelCol=\"Salary\")\n",
    "regressor = regressor.fit(train_data)"
   ]
  },
  {
   "cell_type": "code",
   "execution_count": 7,
   "id": "825ed0cf",
   "metadata": {},
   "outputs": [
    {
     "data": {
      "text/plain": [
       "DenseVector([-1363.6364, 3181.8182])"
      ]
     },
     "execution_count": 7,
     "metadata": {},
     "output_type": "execute_result"
    }
   ],
   "source": [
    "regressor.coefficients"
   ]
  },
  {
   "cell_type": "code",
   "execution_count": 8,
   "id": "0fcc207d",
   "metadata": {},
   "outputs": [
    {
     "data": {
      "text/plain": [
       "40454.545454536375"
      ]
     },
     "execution_count": 8,
     "metadata": {},
     "output_type": "execute_result"
    }
   ],
   "source": [
    "regressor.intercept"
   ]
  },
  {
   "cell_type": "code",
   "execution_count": 9,
   "id": "32d64aff",
   "metadata": {},
   "outputs": [],
   "source": [
    "pred_results = regressor.evaluate(test_data)"
   ]
  },
  {
   "cell_type": "code",
   "execution_count": 10,
   "id": "a3e5e6d0",
   "metadata": {},
   "outputs": [
    {
     "name": "stdout",
     "output_type": "stream",
     "text": [
      "+-----------+------+------------------+\n",
      "|IndFeatures|Salary|        prediction|\n",
      "+-----------+------+------------------+\n",
      "| [23.0,2.0]| 18000|15454.545454545765|\n",
      "| [24.0,3.0]| 20000|17272.727272727512|\n",
      "| [29.0,4.0]| 20000|13636.363636365619|\n",
      "+-----------+------+------------------+\n",
      "\n"
     ]
    }
   ],
   "source": [
    "pred_results.predictions.show()"
   ]
  },
  {
   "cell_type": "code",
   "execution_count": 11,
   "id": "a563b063",
   "metadata": {},
   "outputs": [
    {
     "data": {
      "text/plain": [
       "18137741.04682258"
      ]
     },
     "execution_count": 11,
     "metadata": {},
     "output_type": "execute_result"
    }
   ],
   "source": [
    "pred_results.meanSquaredError"
   ]
  },
  {
   "cell_type": "code",
   "execution_count": null,
   "id": "be3cd24f",
   "metadata": {},
   "outputs": [],
   "source": []
  }
 ],
 "metadata": {
  "kernelspec": {
   "display_name": "Python 3",
   "language": "python",
   "name": "python3"
  },
  "language_info": {
   "codemirror_mode": {
    "name": "ipython",
    "version": 3
   },
   "file_extension": ".py",
   "mimetype": "text/x-python",
   "name": "python",
   "nbconvert_exporter": "python",
   "pygments_lexer": "ipython3",
   "version": "3.8.8"
  }
 },
 "nbformat": 4,
 "nbformat_minor": 5
}
