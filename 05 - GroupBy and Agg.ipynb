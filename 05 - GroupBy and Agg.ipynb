{
 "cells": [
  {
   "cell_type": "code",
   "execution_count": 4,
   "id": "d60b4ddc",
   "metadata": {},
   "outputs": [],
   "source": [
    "from pyspark.sql import SparkSession\n",
    "spark = SparkSession \\\n",
    "        .builder \\\n",
    "        .appName(\"Groupby\") \\\n",
    "        .getOrCreate()"
   ]
  },
  {
   "cell_type": "code",
   "execution_count": 5,
   "id": "22b38dab",
   "metadata": {},
   "outputs": [
    {
     "name": "stdout",
     "output_type": "stream",
     "text": [
      "+---------+-------------+-------+\n",
      "|     name|   department| salary|\n",
      "+---------+-------------+-------+\n",
      "|    Krish| Data Science|10000.0|\n",
      "|    Krish|          IoT| 5000.0|\n",
      "|   Mahesh|     Big Data| 4000.0|\n",
      "|    Krish|     Big Data| 4000.0|\n",
      "|   Mahesh| Data Science| 3000.0|\n",
      "|Sudhanshu| Data Science|20000.0|\n",
      "|Sudhanshu|          IoT|10000.0|\n",
      "|Sudhanshu|     Big Data| 5000.0|\n",
      "|    Sunny| Data Science|10000.0|\n",
      "|    Sunny|     Big Data| 2000.0|\n",
      "+---------+-------------+-------+\n",
      "\n"
     ]
    }
   ],
   "source": [
    "df = spark.read \\\n",
    "    .option(\"header\", \"True\") \\\n",
    "    .option(\"inferSchema\", \"True\") \\\n",
    "    .csv('test5.csv')\n",
    "df.show()"
   ]
  },
  {
   "cell_type": "code",
   "execution_count": 6,
   "id": "ee319476",
   "metadata": {},
   "outputs": [
    {
     "name": "stdout",
     "output_type": "stream",
     "text": [
      "root\n",
      " |-- name: string (nullable = true)\n",
      " |-- department: string (nullable = true)\n",
      " |-- salary: double (nullable = true)\n",
      "\n"
     ]
    }
   ],
   "source": [
    "df.printSchema()"
   ]
  },
  {
   "cell_type": "code",
   "execution_count": 8,
   "id": "ac90202f",
   "metadata": {},
   "outputs": [
    {
     "name": "stdout",
     "output_type": "stream",
     "text": [
      "+---------+-----------+\n",
      "|     name|sum(salary)|\n",
      "+---------+-----------+\n",
      "|Sudhanshu|    35000.0|\n",
      "|    Sunny|    12000.0|\n",
      "|    Krish|    19000.0|\n",
      "|   Mahesh|     7000.0|\n",
      "+---------+-----------+\n",
      "\n"
     ]
    }
   ],
   "source": [
    "df.groupBy('name').sum().show()"
   ]
  },
  {
   "cell_type": "code",
   "execution_count": 14,
   "id": "c5b4f8fa",
   "metadata": {},
   "outputs": [
    {
     "name": "stdout",
     "output_type": "stream",
     "text": [
      "+-------------+-----+\n",
      "|   department|count|\n",
      "+-------------+-----+\n",
      "| Data Science|    3|\n",
      "|     Big Data|    4|\n",
      "| Data Science|    1|\n",
      "|          IoT|    2|\n",
      "+-------------+-----+\n",
      "\n"
     ]
    }
   ],
   "source": [
    "df.groupBy('department').count().show()"
   ]
  },
  {
   "cell_type": "code",
   "execution_count": 15,
   "id": "5e067f94",
   "metadata": {},
   "outputs": [
    {
     "name": "stdout",
     "output_type": "stream",
     "text": [
      "+-----------+\n",
      "|sum(salary)|\n",
      "+-----------+\n",
      "|    73000.0|\n",
      "+-----------+\n",
      "\n"
     ]
    }
   ],
   "source": [
    "df.agg({'salary':'sum'}).show()"
   ]
  },
  {
   "cell_type": "code",
   "execution_count": null,
   "id": "0e85f478",
   "metadata": {},
   "outputs": [],
   "source": []
  }
 ],
 "metadata": {
  "kernelspec": {
   "display_name": "Python 3",
   "language": "python",
   "name": "python3"
  },
  "language_info": {
   "codemirror_mode": {
    "name": "ipython",
    "version": 3
   },
   "file_extension": ".py",
   "mimetype": "text/x-python",
   "name": "python",
   "nbconvert_exporter": "python",
   "pygments_lexer": "ipython3",
   "version": "3.8.8"
  }
 },
 "nbformat": 4,
 "nbformat_minor": 5
}
