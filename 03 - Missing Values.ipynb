{
 "cells": [
  {
   "cell_type": "code",
   "execution_count": 1,
   "id": "0584c3f0",
   "metadata": {},
   "outputs": [],
   "source": [
    "from pyspark.sql import SparkSession\n",
    "spark = SparkSession \\\n",
    "        .builder \\\n",
    "        .appName(\"DataFrame2\") \\\n",
    "        .getOrCreate()"
   ]
  },
  {
   "cell_type": "code",
   "execution_count": 2,
   "id": "a57ee5f6",
   "metadata": {},
   "outputs": [
    {
     "name": "stdout",
     "output_type": "stream",
     "text": [
      "+---------+----+----+------+\n",
      "|     name| age|  xp|salary|\n",
      "+---------+----+----+------+\n",
      "|    Krish|  31|  10| 30000|\n",
      "|Sudhanshu|  30|   8| 25000|\n",
      "|    Sunny|  29|   4| 20000|\n",
      "|     Paul|  24|   3| 20000|\n",
      "|   Harsha|  21|   1| 15000|\n",
      "|  Shubham|  23|   2| 18000|\n",
      "|   Mahesh|null|null| 40000|\n",
      "|     null|  34|  10| 38000|\n",
      "|     null|  36|null|  null|\n",
      "+---------+----+----+------+\n",
      "\n"
     ]
    }
   ],
   "source": [
    "df = spark.read \\\n",
    "    .option(\"header\", \"True\") \\\n",
    "    .option(\"inferSchema\", \"True\") \\\n",
    "    .csv('test3.csv')\n",
    "df.show()"
   ]
  },
  {
   "cell_type": "code",
   "execution_count": 10,
   "id": "7284bced",
   "metadata": {},
   "outputs": [],
   "source": [
    "#df.na.drop().show()\n",
    "# df.na.fill(0).show()\n",
    "from pyspark.ml.feature import Imputer\n",
    "\n",
    "imputer = Imputer(\n",
    "    inputCols=[\"age\", \"xp\", \"salary\"],\n",
    "    outputCols=[\"{}_imputed\".format(c) for c in [\"age\", \"xp\", \"salary\"]]\n",
    "    ).setStrategy(\"mean\")"
   ]
  },
  {
   "cell_type": "code",
   "execution_count": 11,
   "id": "903b4682",
   "metadata": {},
   "outputs": [
    {
     "name": "stdout",
     "output_type": "stream",
     "text": [
      "+---------+----+----+------+-----------+----------+--------------+\n",
      "|     name| age|  xp|salary|age_imputed|xp_imputed|salary_imputed|\n",
      "+---------+----+----+------+-----------+----------+--------------+\n",
      "|    Krish|  31|  10| 30000|         31|        10|         30000|\n",
      "|Sudhanshu|  30|   8| 25000|         30|         8|         25000|\n",
      "|    Sunny|  29|   4| 20000|         29|         4|         20000|\n",
      "|     Paul|  24|   3| 20000|         24|         3|         20000|\n",
      "|   Harsha|  21|   1| 15000|         21|         1|         15000|\n",
      "|  Shubham|  23|   2| 18000|         23|         2|         18000|\n",
      "|   Mahesh|null|null| 40000|         28|         5|         40000|\n",
      "|     null|  34|  10| 38000|         34|        10|         38000|\n",
      "|     null|  36|null|  null|         36|         5|         25750|\n",
      "+---------+----+----+------+-----------+----------+--------------+\n",
      "\n"
     ]
    }
   ],
   "source": [
    "imputer.fit(df).transform(df).show()"
   ]
  },
  {
   "cell_type": "code",
   "execution_count": null,
   "id": "ed701131",
   "metadata": {},
   "outputs": [],
   "source": []
  }
 ],
 "metadata": {
  "kernelspec": {
   "display_name": "Python 3",
   "language": "python",
   "name": "python3"
  },
  "language_info": {
   "codemirror_mode": {
    "name": "ipython",
    "version": 3
   },
   "file_extension": ".py",
   "mimetype": "text/x-python",
   "name": "python",
   "nbconvert_exporter": "python",
   "pygments_lexer": "ipython3",
   "version": "3.8.8"
  }
 },
 "nbformat": 4,
 "nbformat_minor": 5
}
