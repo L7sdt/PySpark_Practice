{
 "cells": [
  {
   "cell_type": "code",
   "execution_count": 2,
   "id": "84dfaab2",
   "metadata": {},
   "outputs": [],
   "source": [
    "from pyspark.sql import SparkSession\n",
    "spark = SparkSession \\\n",
    "        .builder \\\n",
    "        .appName(\"Filter\") \\\n",
    "        .getOrCreate()"
   ]
  },
  {
   "cell_type": "code",
   "execution_count": 3,
   "id": "7cc5eafa",
   "metadata": {},
   "outputs": [
    {
     "name": "stdout",
     "output_type": "stream",
     "text": [
      "+---------+---+---+------+\n",
      "|     name|age| xp|salary|\n",
      "+---------+---+---+------+\n",
      "|    Krish| 31| 10| 30000|\n",
      "|Sudhanshu| 30|  8| 25000|\n",
      "|    Sunny| 29|  4| 20000|\n",
      "|     Paul| 24|  3| 20000|\n",
      "|   Harsha| 21|  1| 15000|\n",
      "|  Shubham| 23|  2| 18000|\n",
      "+---------+---+---+------+\n",
      "\n"
     ]
    }
   ],
   "source": [
    "df = spark.read \\\n",
    "    .option(\"header\", \"True\") \\\n",
    "    .option(\"inferSchema\", \"True\") \\\n",
    "    .csv('test4.csv')\n",
    "df.show()"
   ]
  },
  {
   "cell_type": "code",
   "execution_count": 6,
   "id": "daa941d1",
   "metadata": {},
   "outputs": [
    {
     "name": "stdout",
     "output_type": "stream",
     "text": [
      "+-------+---+---+------+\n",
      "|   name|age| xp|salary|\n",
      "+-------+---+---+------+\n",
      "|  Sunny| 29|  4| 20000|\n",
      "|   Paul| 24|  3| 20000|\n",
      "| Harsha| 21|  1| 15000|\n",
      "|Shubham| 23|  2| 18000|\n",
      "+-------+---+---+------+\n",
      "\n"
     ]
    }
   ],
   "source": [
    "df.filter(\"salary<=20000\").show()\n",
    "#df.filter(\"salary<=20000\").select([\"name\"]).show()"
   ]
  },
  {
   "cell_type": "code",
   "execution_count": 11,
   "id": "5e081db6",
   "metadata": {},
   "outputs": [
    {
     "name": "stdout",
     "output_type": "stream",
     "text": [
      "+-------+---+---+------+\n",
      "|   name|age| xp|salary|\n",
      "+-------+---+---+------+\n",
      "| Harsha| 21|  1| 15000|\n",
      "|Shubham| 23|  2| 18000|\n",
      "+-------+---+---+------+\n",
      "\n"
     ]
    }
   ],
   "source": [
    "df.filter((df.age < 25) & (df.salary < 20000)).show()"
   ]
  },
  {
   "cell_type": "code",
   "execution_count": 15,
   "id": "080c3c4c",
   "metadata": {},
   "outputs": [
    {
     "name": "stdout",
     "output_type": "stream",
     "text": [
      "+---------+---+---+------+\n",
      "|     name|age| xp|salary|\n",
      "+---------+---+---+------+\n",
      "|    Krish| 31| 10| 30000|\n",
      "|Sudhanshu| 30|  8| 25000|\n",
      "|    Sunny| 29|  4| 20000|\n",
      "+---------+---+---+------+\n",
      "\n"
     ]
    }
   ],
   "source": [
    "df.filter(~(df.age < 25)).show() # ~ means 'not' i.e. reverse"
   ]
  }
 ],
 "metadata": {
  "kernelspec": {
   "display_name": "Python 3",
   "language": "python",
   "name": "python3"
  },
  "language_info": {
   "codemirror_mode": {
    "name": "ipython",
    "version": 3
   },
   "file_extension": ".py",
   "mimetype": "text/x-python",
   "name": "python",
   "nbconvert_exporter": "python",
   "pygments_lexer": "ipython3",
   "version": "3.8.8"
  }
 },
 "nbformat": 4,
 "nbformat_minor": 5
}
